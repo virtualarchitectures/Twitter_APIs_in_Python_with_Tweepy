{
 "cells": [
  {
   "cell_type": "markdown",
   "metadata": {},
   "source": [
    "# Twitter Streaming API in Python"
   ]
  },
  {
   "cell_type": "markdown",
   "metadata": {},
   "source": [
    "This notebook uses the [Tweepy](https://www.tweepy.org/) library for Python to access Twitter's streaming API to get tweets in real-time. The notebook demonstrates how to access tweets based on user IDs, search terms or by geolocation.\n",
    "\n",
    "In order to use the Twitter Streaming API you will need to [Apply for a Twitter Developer Account](https://developer.twitter.com/en/application/use-case). You will then need to set up a Twitter appand obtain the authentication credentials that will enable your application to connect to the API. See [Twitter developer apps: Overview](https://developer.twitter.com/en/docs/basics/apps/overview) for further details.\n",
    "\n",
    "This example is based on a tutorial series [How to use the Twitter API v1.1 with Python to stream tweets](https://youtu.be/pUUxmvvl2FE) by sentdex on Youtube."
   ]
  },
  {
   "cell_type": "markdown",
   "metadata": {},
   "source": [
    "#### Import dependencies"
   ]
  },
  {
   "cell_type": "code",
   "execution_count": null,
   "metadata": {},
   "outputs": [],
   "source": [
    "# Import Tweepy library to connect to the Twitter Streaming API and process the response\n",
    "import tweepy\n",
    "# Import time to enable us to set a time limit for data collection\n",
    "import time\n",
    "# Import json library to enable access to raw data\n",
    "import json"
   ]
  },
  {
   "cell_type": "markdown",
   "metadata": {},
   "source": [
    "#### Authentication Credentials"
   ]
  },
  {
   "cell_type": "code",
   "execution_count": null,
   "metadata": {},
   "outputs": [],
   "source": [
    "# Enter the details from the Twitter App you created here\n",
    "consumer_key = ''\n",
    "consumer_secret = ''\n",
    "access_token = ''\n",
    "access_token_secret = ''"
   ]
  },
  {
   "cell_type": "markdown",
   "metadata": {},
   "source": [
    "#### Data Collection Timer"
   ]
  },
  {
   "cell_type": "markdown",
   "metadata": {},
   "source": [
    "Once connected to the streaming API the stream will not terminate unless the connection is closed. We'll use a set duration for data collection in seconds, which will be used in a timer function.\n",
    "\n",
    "1 min = 60 / 5 mins = 300 / 10 mins = 600 / 30 mins = 1800 / 1 hour = 3600 / 12 hours = 43200 / 24 hours = 86400"
   ]
  },
  {
   "cell_type": "code",
   "execution_count": null,
   "metadata": {},
   "outputs": [],
   "source": [
    "# Variable to control the duration of data collection in seconds\n",
    "data_coll_time = 60"
   ]
  },
  {
   "cell_type": "markdown",
   "metadata": {},
   "source": [
    "#### Filter Criteria"
   ]
  },
  {
   "cell_type": "markdown",
   "metadata": {},
   "source": [
    "When calling the real-time streaming API you will use filters to specify criteria for the type of tweets you wish the streaming endpoint to return. For example, you can filter tweets by specifying one of the following parameters and providing appropriate values: `follow` (list of users); `track` (list of search terms); `locations` (list of lon/lat pairs in WGS84 describing the southwest and northeast corners of one or more geographic bounding boxes). See [Filter realtime Tweets](https://developer.twitter.com/en/docs/tweets/filter-realtime/guides/basic-stream-parameters) for further details.\n",
    "\n",
    "Other filters include `languages` and a `filter_level` which can be used to moderate tweets for display purposes.\n",
    "\n",
    "The coordinates for a suitable bounding box can be found using [BoundingBox](https://boundingbox.klokantech.com/) to draw a bounding box and then selecting `CSV` as the 'Copy & Paste' method in the lower left of the screen.\n",
    "\n",
    "**NOTE: You can use combinations of filters such as track and location but this will filter using Either/OR logic rather than an AND operator.**"
   ]
  },
  {
   "cell_type": "code",
   "execution_count": null,
   "metadata": {},
   "outputs": [],
   "source": [
    "# Follow: A comma-separated list of user IDs\n",
    "users = [\"2247929742\"] #Test this by using your own user ID and Tweeting from that account while running the code\n",
    "\n",
    "# Track: A comma-separated list of phrases that are matched to Tweet text, hashtags, screen name and URLs\n",
    "terms = ['virtual reality', 'augmented reality']\n",
    "\n",
    "# Locations: A list of two Lon/Lat pairs for each location\n",
    "london = [-0.603549,51.239469,0.359128,51.726932]\n",
    "dublin = [-6.391232,53.297358,-6.160176,53.395736]\n",
    "# To search a number of locations simultaneously\n",
    "dub_lon = [-6.391232,53.297358,-6.160176,53.395736,-0.603549,51.239469,0.359128,51.726932]\n",
    "\n",
    "# Assign preferred location to a variable\n",
    "chosen_location = london"
   ]
  },
  {
   "cell_type": "markdown",
   "metadata": {},
   "source": [
    "#### Authentication"
   ]
  },
  {
   "cell_type": "code",
   "execution_count": null,
   "metadata": {},
   "outputs": [],
   "source": [
    "auth = tweepy.OAuthHandler(consumer_key, consumer_secret)\n",
    "auth.set_access_token(access_token, access_token_secret)"
   ]
  },
  {
   "cell_type": "markdown",
   "metadata": {},
   "source": [
    "## Simple StreamListener"
   ]
  },
  {
   "cell_type": "markdown",
   "metadata": {},
   "source": [
    "The Twitter streaming API allows data to be downloaded in real-time by pushing messages to a persistent streaming session. We can listen to those messages by creating a StreamListener. See [Streaming With Tweepy](https://tweepy.readthedocs.io/en/latest/streaming_how_to.html) for further details.\n",
    "\n",
    "Streams do not terminate unless the connection is closed. Setting Tweepy's `is_async` parameter to `=True` will prevent blocking by running the stream on a new thread. We'll also use a timer which can be checked in Tweepy's `on_status` or `on_data` methods in order to close the connection after a set period by setting `return False`. The design of the timer derives from the answer by user  yprez to the question [Unable to stop Streaming in tweepy after one minute](https://stackoverflow.com/questions/33498975/unable-to-stop-streaming-in-tweepy-after-one-minute) on Stack Overflow. "
   ]
  },
  {
   "cell_type": "markdown",
   "metadata": {},
   "source": [
    "#### Create a StreamListener"
   ]
  },
  {
   "cell_type": "code",
   "execution_count": null,
   "metadata": {},
   "outputs": [],
   "source": [
    "class MyStreamListener(tweepy.StreamListener):\n",
    "    \n",
    "    # Initialise timer for this MyStreamLogger instance\n",
    "    def __init__(self, time_limit = data_coll_time):\n",
    "        self.start_time = time.time()\n",
    "        self.limit = time_limit\n",
    "        super(MyStreamListener, self).__init__()\n",
    "\n",
    "    # Confirm connection established\n",
    "    def on_connect(self):\n",
    "        print('Streaming API Connection Established!')\n",
    "        pass\n",
    "    \n",
    "    # Display the text of Twitter status updates as they are received\n",
    "    def on_status(self, status):\n",
    "        # Check timer\n",
    "        if (time.time() - self.start_time) < self.limit:\n",
    "            print(status.text)\n",
    "            return True\n",
    "        else:\n",
    "            print('Closing Connection!')\n",
    "            return False\n",
    "\n",
    "    # Handle errors\n",
    "    def on_error(self, status_code):\n",
    "        print(status_code)\n",
    "        if status_code == 420:\n",
    "            #returning False in on_error disconnects the stream\n",
    "            return False"
   ]
  },
  {
   "cell_type": "markdown",
   "metadata": {},
   "source": [
    "#### Create a Stream"
   ]
  },
  {
   "cell_type": "code",
   "execution_count": null,
   "metadata": {},
   "outputs": [],
   "source": [
    "myStreamListener = MyStreamListener()\n",
    "myStream = tweepy.Stream(auth, myStreamListener)\n",
    "\n",
    "# Select one of the following filters\n",
    "\n",
    "#myStream.filter(follow=users, is_async=True)\n",
    "#myStream.filter(track=terms, is_async=True)\n",
    "myStream.filter(locations=chosen_location, is_async=True)"
   ]
  },
  {
   "cell_type": "markdown",
   "metadata": {},
   "source": [
    "## StreamLogger"
   ]
  },
  {
   "cell_type": "markdown",
   "metadata": {},
   "source": [
    "In addition to streaming status updates and printing them to the console we can save the raw data to a file or database. In this case we'll save the raw output in its native JSON format to a file.\n",
    "\n",
    "**NOTE: Saving raw tweets will create large files so consider setting a low value for `data_collection_time` and/or adapting the code to only write the parsed JSON fields you are interested in.**"
   ]
  },
  {
   "cell_type": "markdown",
   "metadata": {},
   "source": [
    "#### Create a StreamLogger"
   ]
  },
  {
   "cell_type": "code",
   "execution_count": null,
   "metadata": {},
   "outputs": [],
   "source": [
    "class MyStreamLogger(tweepy.StreamListener):\n",
    "    \n",
    "    # Initialise timer for this MyStreamLogger instance\n",
    "    def __init__(self, time_limit = data_coll_time):\n",
    "        self.start_time = time.time()\n",
    "        self.limit = time_limit\n",
    "        super(MyStreamLogger, self).__init__()\n",
    "    \n",
    "    # Confirm connection established\n",
    "    def on_connect(self):\n",
    "        print('Streaming API Connection Established!')\n",
    "        pass\n",
    "    \n",
    "    # Process received data\n",
    "    def on_data(self, data):\n",
    "        # Get current date to use as prefix for filename \n",
    "        timestr = time.strftime(\"%Y_%m_%d_\")\n",
    "        # Reopen or Create new file with parameter set to append data\n",
    "        saveFile = open(timestr + 'Tweets.json','a')\n",
    "        # Check timer\n",
    "        if (time.time() - self.start_time) < self.limit:\n",
    "            try:\n",
    "                # Load data response as JSON\n",
    "                payload = json.loads(data)\n",
    "                #Parse JSON response\n",
    "                try:\n",
    "                    tweetStr = payload['extended_tweet']['full_text']\n",
    "                except Exception as e:\n",
    "                    tweetStr = payload['text']\n",
    "                user = payload['user']['screen_name']\n",
    "                # Print parsed data\n",
    "                print('@' + user + ' tweeted ' + tweetStr)\n",
    "                # Save data to the open file\n",
    "                saveFile.write(data)\n",
    "                return True\n",
    "            except BaseException as e:\n",
    "                # Print any exception\n",
    "                print('Failed on_data, ',str(e))\n",
    "                # Allow a pause of n seconds before reconnecting in case of unexpected rate limiting\n",
    "                time.sleep(5)\n",
    "        else:\n",
    "            #Save and close the file\n",
    "            saveFile.close()\n",
    "            print('Closing Connection!')\n",
    "            return False\n",
    "    \n",
    "    # Handle errors\n",
    "    def on_error(self, status_code):\n",
    "        print(status_code)\n",
    "        if status_code == 420:\n",
    "            #returning False in on_error disconnects the stream\n",
    "            return False"
   ]
  },
  {
   "cell_type": "markdown",
   "metadata": {},
   "source": [
    "#### Create a stream"
   ]
  },
  {
   "cell_type": "code",
   "execution_count": null,
   "metadata": {},
   "outputs": [],
   "source": [
    "myStreamLogger = MyStreamLogger()\n",
    "myStream = tweepy.Stream(auth, myStreamLogger)\n",
    "\n",
    "# Select one of the following filters\n",
    "\n",
    "#myStream.filter(follow=users, is_async=True)\n",
    "#myStream.filter(track=terms, is_async=True)\n",
    "myStream.filter(locations=chosen_location, is_async=True) #Specify location"
   ]
  },
  {
   "cell_type": "code",
   "execution_count": null,
   "metadata": {},
   "outputs": [],
   "source": []
  }
 ],
 "metadata": {
  "kernelspec": {
   "display_name": "Python 3",
   "language": "python",
   "name": "python3"
  },
  "language_info": {
   "codemirror_mode": {
    "name": "ipython",
    "version": 3
   },
   "file_extension": ".py",
   "mimetype": "text/x-python",
   "name": "python",
   "nbconvert_exporter": "python",
   "pygments_lexer": "ipython3",
   "version": "3.7.3"
  }
 },
 "nbformat": 4,
 "nbformat_minor": 2
}
