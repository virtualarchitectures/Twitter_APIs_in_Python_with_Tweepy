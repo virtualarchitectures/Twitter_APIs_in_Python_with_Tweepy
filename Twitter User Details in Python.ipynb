{
 "cells": [
  {
   "cell_type": "markdown",
   "metadata": {},
   "source": [
    "# Twitter User Details in Python"
   ]
  },
  {
   "cell_type": "markdown",
   "metadata": {},
   "source": [
    "This notebook uses the Tweepy library for Python to access Twitter's streaming API to get tweets in real-time. The notebook demonstrates how to access user details for an individual account or list of accounts.\n",
    "\n",
    "In order to use the Twitter Streaming API you will need to [Apply for a Twitter Developer Account](https://developer.twitter.com/en/application/use-case). You will then need to set up a Twitter appand obtain the authentication credentials that will enable your application to connect to the API. See [Twitter developer apps: Overview](https://developer.twitter.com/en/docs/basics/apps/overview) for further details."
   ]
  },
  {
   "cell_type": "markdown",
   "metadata": {},
   "source": [
    "#### Import Dependencies"
   ]
  },
  {
   "cell_type": "code",
   "execution_count": null,
   "metadata": {},
   "outputs": [],
   "source": [
    "# Import Tweepy library to connect to the Twitter API and process the response\n",
    "import tweepy\n",
    "# Import Pandas to work with dataframes\n",
    "import pandas as pd\n",
    "# Import wget to retrieve profile images\n",
    "import wget\n",
    "# Import OS to manipulate file paths and names\n",
    "import os\n",
    "# Import Time to handle API rate limiting\n",
    "import time"
   ]
  },
  {
   "cell_type": "markdown",
   "metadata": {},
   "source": [
    "#### Authentication Details"
   ]
  },
  {
   "cell_type": "code",
   "execution_count": null,
   "metadata": {},
   "outputs": [],
   "source": [
    "# Enter the details from the Twitter App you created here\n",
    "consumer_key = ''\n",
    "consumer_secret = ''\n",
    "access_token = ''\n",
    "access_token_secret = ''"
   ]
  },
  {
   "cell_type": "markdown",
   "metadata": {},
   "source": [
    "#### Authentication"
   ]
  },
  {
   "cell_type": "code",
   "execution_count": null,
   "metadata": {},
   "outputs": [],
   "source": [
    "auth = tweepy.OAuthHandler(consumer_key, consumer_secret)\n",
    "auth.set_access_token(access_token, access_token_secret)\n",
    "api = tweepy.API(auth) "
   ]
  },
  {
   "cell_type": "markdown",
   "metadata": {},
   "source": [
    "## Get User's Profile Details\n",
    "\n",
    "The `get_user()` method accepts the user's ID or screen name."
   ]
  },
  {
   "cell_type": "markdown",
   "metadata": {},
   "source": [
    "#### Specify user ID"
   ]
  },
  {
   "cell_type": "code",
   "execution_count": null,
   "metadata": {},
   "outputs": [],
   "source": [
    "# Using screen name\n",
    "_id = 'virt_arch'"
   ]
  },
  {
   "cell_type": "markdown",
   "metadata": {},
   "source": [
    "#### Call the Twitter API"
   ]
  },
  {
   "cell_type": "code",
   "execution_count": null,
   "metadata": {},
   "outputs": [],
   "source": [
    "user = api.get_user(_id)"
   ]
  },
  {
   "cell_type": "markdown",
   "metadata": {},
   "source": [
    "#### Load response into a dataframe"
   ]
  },
  {
   "cell_type": "code",
   "execution_count": null,
   "metadata": {},
   "outputs": [],
   "source": [
    "df = pd.DataFrame({'user_id': [user.id_str],\n",
    "                   'screen_name': [user.screen_name],\n",
    "                   'location': [user.location],\n",
    "                   'profile_image': [user.profile_image_url],\n",
    "                   'description': [user.description],\n",
    "                   'website': [user.entities['url']['urls'][0]['expanded_url']],\n",
    "                   'followers': [user.followers_count], \n",
    "                   'friends': [user.friends_count],\n",
    "                   'created_at': [user.created_at], \n",
    "                   'verified': [user.verified]\n",
    "                  })"
   ]
  },
  {
   "cell_type": "markdown",
   "metadata": {},
   "source": [
    "#### Display the dataframe"
   ]
  },
  {
   "cell_type": "code",
   "execution_count": null,
   "metadata": {
    "scrolled": true
   },
   "outputs": [],
   "source": [
    "df"
   ]
  },
  {
   "cell_type": "markdown",
   "metadata": {},
   "source": [
    "#### Download and save the user's profile picture"
   ]
  },
  {
   "cell_type": "code",
   "execution_count": null,
   "metadata": {
    "scrolled": false
   },
   "outputs": [],
   "source": [
    "# Remove the '_normal' tag from the URL to get a full sized image\n",
    "link = user.profile_image_url.replace('_normal','')\n",
    "\n",
    "# Set the ouput location for the image and save as png\n",
    "destination = os.path.join('logos/' + user.screen_name + '.png')\n",
    "\n",
    "# Use wget to download and save the image file\n",
    "wget.download(link, destination)"
   ]
  },
  {
   "cell_type": "markdown",
   "metadata": {},
   "source": [
    "#### Use HERE Maps API to geocode the user's location"
   ]
  },
  {
   "cell_type": "code",
   "execution_count": null,
   "metadata": {},
   "outputs": [],
   "source": [
    "import herepy\n",
    "\n",
    "geocoderApi = herepy.GeocoderApi('')\n",
    "\n",
    "response = geocoderApi.free_form(user.location)"
   ]
  },
  {
   "cell_type": "markdown",
   "metadata": {},
   "source": [
    "#### Display the returned coordinates"
   ]
  },
  {
   "cell_type": "code",
   "execution_count": null,
   "metadata": {},
   "outputs": [],
   "source": [
    "print(response.items[0]['position'])"
   ]
  },
  {
   "cell_type": "markdown",
   "metadata": {},
   "source": [
    "#### Append coordinates to the user dataframe"
   ]
  },
  {
   "cell_type": "code",
   "execution_count": null,
   "metadata": {},
   "outputs": [],
   "source": [
    "df['lon'] = [response.items[0]['position']['lng']]\n",
    "df['lat'] = [response.items[0]['position']['lat']]"
   ]
  },
  {
   "cell_type": "markdown",
   "metadata": {},
   "source": [
    "#### Display the dataframe"
   ]
  },
  {
   "cell_type": "code",
   "execution_count": null,
   "metadata": {},
   "outputs": [],
   "source": [
    "df"
   ]
  },
  {
   "cell_type": "markdown",
   "metadata": {},
   "source": [
    "## Get User's Followers\n",
    "\n",
    "The `followers()` method accepts the user's ID or screen name. We will use the `Cursor()` method to iterate through items. The number of items can be specific in `items()` or else left blank to iteract through all items. \n",
    "\n",
    "This request is subject to [rate limiting](https://developer.twitter.com/ja/docs/basics/rate-limits) against the 'Users' endpoint. It is recommended to set the rate limit of several seconds to avoid exceeding that rate limit."
   ]
  },
  {
   "cell_type": "markdown",
   "metadata": {},
   "source": [
    "#### Set time for rate limiter (seconds)"
   ]
  },
  {
   "cell_type": "code",
   "execution_count": null,
   "metadata": {},
   "outputs": [],
   "source": [
    "rate_limit = 5"
   ]
  },
  {
   "cell_type": "markdown",
   "metadata": {},
   "source": [
    "#### Specify User"
   ]
  },
  {
   "cell_type": "code",
   "execution_count": null,
   "metadata": {},
   "outputs": [],
   "source": [
    "# Using screen name\n",
    "_id = 'virt_arch'"
   ]
  },
  {
   "cell_type": "markdown",
   "metadata": {},
   "source": [
    "#### Create Empty Dataframe"
   ]
  },
  {
   "cell_type": "code",
   "execution_count": null,
   "metadata": {},
   "outputs": [],
   "source": [
    "df = pd.DataFrame(columns=['user_id',\n",
    "                           'screen_name',\n",
    "                           'location',\n",
    "                           'profile_image',\n",
    "                           'description',\n",
    "                           'website',\n",
    "                           'followers',\n",
    "                           'friends',\n",
    "                           'created_at',\n",
    "                           'verified'\n",
    "                          ])"
   ]
  },
  {
   "cell_type": "markdown",
   "metadata": {},
   "source": [
    "#### Call the Twitter API"
   ]
  },
  {
   "cell_type": "code",
   "execution_count": null,
   "metadata": {},
   "outputs": [],
   "source": [
    "for user in tweepy.Cursor(api.followers, _id).items():\n",
    "    temp_df = pd.DataFrame({'user_id': [user.id_str],\n",
    "                            'screen_name': [user.screen_name],\n",
    "                            'location': [user.location],\n",
    "                            'profile_image': [user.profile_image_url],\n",
    "                            'description': [user.description],\n",
    "                            'website': [user.entities['url']['urls'][0]['expanded_url']],\n",
    "                            'followers': [user.followers_count], \n",
    "                            'friends': [user.friends_count],\n",
    "                            'created_at': [user.created_at], \n",
    "                            'verified': [user.verified]\n",
    "                           })\n",
    "    df = df.append(temp_df)\n",
    "    \n",
    "    try:\n",
    "        # Remove the '_normal' tag from the URL to get a full sized image\n",
    "        link = user.profile_image_url.replace('_normal','')\n",
    "\n",
    "        # Set the ouput location for the image and save as png\n",
    "        destination = os.path.join('logos/' + user.screen_name + '.png')\n",
    "\n",
    "        # Use wget to download and save the image file\n",
    "        wget.download(link, destination)\n",
    "    except:\n",
    "        print(user.screen_name + ' profile image not available')\n",
    "    \n",
    "    print(df)\n",
    "    time.sleep(rate_limit)"
   ]
  },
  {
   "cell_type": "markdown",
   "metadata": {},
   "source": [
    "#### Display Dataframe"
   ]
  },
  {
   "cell_type": "code",
   "execution_count": null,
   "metadata": {},
   "outputs": [],
   "source": [
    "df"
   ]
  },
  {
   "cell_type": "markdown",
   "metadata": {},
   "source": [
    "#### Save Dataframe to CSV"
   ]
  },
  {
   "cell_type": "code",
   "execution_count": null,
   "metadata": {},
   "outputs": [],
   "source": [
    "df.to_csv(os.path.join('data/' + _id + '_' + 'followers.csv'))"
   ]
  },
  {
   "cell_type": "code",
   "execution_count": null,
   "metadata": {},
   "outputs": [],
   "source": []
  }
 ],
 "metadata": {
  "kernelspec": {
   "display_name": "Python 3",
   "language": "python",
   "name": "python3"
  },
  "language_info": {
   "codemirror_mode": {
    "name": "ipython",
    "version": 3
   },
   "file_extension": ".py",
   "mimetype": "text/x-python",
   "name": "python",
   "nbconvert_exporter": "python",
   "pygments_lexer": "ipython3",
   "version": "3.8.5"
  }
 },
 "nbformat": 4,
 "nbformat_minor": 4
}
